{
 "cells": [
  {
   "cell_type": "markdown",
   "id": "3d040a80-3b2a-4691-9fdd-1ed0d69be4a9",
   "metadata": {},
   "source": [
    "#### Import statements"
   ]
  },
  {
   "cell_type": "code",
   "execution_count": 1,
   "id": "4d300c7e-9869-4a92-a600-7e3a8ae9e960",
   "metadata": {},
   "outputs": [
    {
     "name": "stderr",
     "output_type": "stream",
     "text": [
      "/Users/emanuelalves/Library/Python/3.9/lib/python/site-packages/urllib3/__init__.py:35: NotOpenSSLWarning: urllib3 v2 only supports OpenSSL 1.1.1+, currently the 'ssl' module is compiled with 'LibreSSL 2.8.3'. See: https://github.com/urllib3/urllib3/issues/3020\n",
      "  warnings.warn(\n"
     ]
    }
   ],
   "source": [
    "import os\n",
    "import glob\n",
    "import openai\n",
    "import yt_dlp as youtube_dl\n",
    "from yt_dlp import DownloadError\n",
    "import docarray"
   ]
  },
  {
   "cell_type": "markdown",
   "id": "12820c2a-2031-42af-8fe1-bcdb9e105de8",
   "metadata": {},
   "source": [
    "#### Setting up OpenAI's token"
   ]
  },
  {
   "cell_type": "code",
   "execution_count": 7,
   "id": "a77851e7-0ddc-4b44-96de-78bc590f0498",
   "metadata": {},
   "outputs": [],
   "source": [
    "import config\n",
    "config.apiToken()"
   ]
  },
  {
   "cell_type": "code",
   "execution_count": 3,
   "id": "780c3094-ffaa-4e6d-8cbe-caad56005a97",
   "metadata": {},
   "outputs": [],
   "source": [
    "openai_api_key = os.getenv(\"OPENAI_API_KEY\")"
   ]
  },
  {
   "cell_type": "markdown",
   "id": "778a6af2-1d77-4c73-8070-30a17d723248",
   "metadata": {},
   "source": [
    "#### Begin tutorial - Downloading YT video and converting it into a mp3 file with ffmpeg"
   ]
  },
  {
   "cell_type": "code",
   "execution_count": 4,
   "id": "22fad653-2032-4630-861f-e205c6592f1c",
   "metadata": {},
   "outputs": [],
   "source": [
    "# An example YouTube tutorial video\n",
    "youtube_url = \"https://www.youtube.com/watch?v=aqzxYofJ_ck\"\n",
    "\n",
    "# Directory to store the downloaded video\n",
    "output_dir = \"files/audio/\"\n",
    "\n",
    "# Config for youtube-dl\n",
    "ydl_config = {\n",
    "    \"format\": \"bestaudio/best\",\n",
    "    \"postprocessors\": [\n",
    "        {\n",
    "            \"key\": \"FFmpegExtractAudio\",\n",
    "            \"preferredcodec\": \"mp3\",\n",
    "            \"preferredquality\": \"192\",\n",
    "        }\n",
    "    ],\n",
    "    \"outtmpl\": os.path.join(output_dir, \"%(title)s.%(ext)s\"),\n",
    "    \"verbose\": True\n",
    "}\n"
   ]
  },
  {
   "cell_type": "markdown",
   "id": "79764209-9d2b-400c-8941-bb39d08dd7a2",
   "metadata": {},
   "source": [
    "##### Cheking if directory exists or not"
   ]
  },
  {
   "cell_type": "code",
   "execution_count": 5,
   "id": "721a6be4-5947-413e-bc07-260b93680ea8",
   "metadata": {},
   "outputs": [],
   "source": [
    "if not os.path.exists(output_dir):\n",
    "    os.makedirs(output_dir)"
   ]
  },
  {
   "cell_type": "markdown",
   "id": "1c96ee0d-7e29-4b8f-8be0-358b8cd1f6a1",
   "metadata": {},
   "source": [
    "##### Try download and convert files"
   ]
  },
  {
   "cell_type": "code",
   "execution_count": 6,
   "id": "d18bfd22-fe07-4d91-94be-d1c4fd95ecf6",
   "metadata": {},
   "outputs": [
    {
     "name": "stderr",
     "output_type": "stream",
     "text": [
      "[debug] Encodings: locale UTF-8, fs utf-8, pref UTF-8, out UTF-8 (No ANSI), error UTF-8 (No ANSI), screen UTF-8 (No ANSI)\n",
      "[debug] yt-dlp version stable@2024.12.13 from yt-dlp/yt-dlp [542166962] (pip) API\n",
      "[debug] params: {'format': 'bestaudio/best', 'postprocessors': [{'key': 'FFmpegExtractAudio', 'preferredcodec': 'mp3', 'preferredquality': '192'}], 'outtmpl': 'files/audio/%(title)s.%(ext)s', 'verbose': True, 'compat_opts': set(), 'http_headers': {'User-Agent': 'Mozilla/5.0 (Windows NT 10.0; Win64; x64) AppleWebKit/537.36 (KHTML, like Gecko) Chrome/96.0.4664.93 Safari/537.36', 'Accept': 'text/html,application/xhtml+xml,application/xml;q=0.9,*/*;q=0.8', 'Accept-Language': 'en-us,en;q=0.5', 'Sec-Fetch-Mode': 'navigate'}}\n",
      "[debug] Python 3.9.6 (CPython arm64 64bit) - macOS-15.1.1-arm64-arm-64bit (LibreSSL 2.8.3)\n"
     ]
    },
    {
     "name": "stdout",
     "output_type": "stream",
     "text": [
      "downloading from youtube the following video url: https://www.youtube.com/watch?v=aqzxYofJ_ck\n"
     ]
    },
    {
     "name": "stderr",
     "output_type": "stream",
     "text": [
      "[debug] exe versions: ffmpeg 7.1 (setts), ffprobe 7.1\n",
      "[debug] Optional libraries: certifi-2024.08.30, requests-2.32.3, sqlite3-3.43.2, urllib3-2.2.3\n",
      "[debug] Proxy map: {}\n",
      "[debug] Request Handlers: urllib, requests\n",
      "[debug] Loaded 1837 extractors\n"
     ]
    },
    {
     "name": "stdout",
     "output_type": "stream",
     "text": [
      "[youtube] Extracting URL: https://www.youtube.com/watch?v=aqzxYofJ_ck\n",
      "[youtube] aqzxYofJ_ck: Downloading webpage\n",
      "[youtube] aqzxYofJ_ck: Downloading ios player API JSON\n",
      "[youtube] aqzxYofJ_ck: Downloading mweb player API JSON\n"
     ]
    },
    {
     "name": "stderr",
     "output_type": "stream",
     "text": [
      "[debug] Loading youtube-nsig.f8f53e1a from cache\n",
      "[debug] [youtube] Decrypted nsig rdFKPJ0IRdxkuKbblw7 => 6FzJ3VFqr31gRw\n",
      "[debug] Loading youtube-nsig.f8f53e1a from cache\n",
      "[debug] [youtube] Decrypted nsig hXHrW9d7LcjeBvY6M73 => w3mDrm0xaWJYGg\n"
     ]
    },
    {
     "name": "stdout",
     "output_type": "stream",
     "text": [
      "[youtube] aqzxYofJ_ck: Downloading m3u8 information\n"
     ]
    },
    {
     "name": "stderr",
     "output_type": "stream",
     "text": [
      "[debug] Sort order given by extractor: quality, res, fps, hdr:12, source, vcodec, channels, acodec, lang, proto\n",
      "[debug] Formats sorted by: hasvid, ie_pref, quality, res, fps, hdr:12(7), source, vcodec, channels, acodec, lang, proto, size, br, asr, vext, aext, hasaud, id\n"
     ]
    },
    {
     "name": "stdout",
     "output_type": "stream",
     "text": [
      "[info] aqzxYofJ_ck: Downloading 1 format(s): 251\n"
     ]
    },
    {
     "name": "stderr",
     "output_type": "stream",
     "text": [
      "[debug] Invoking http downloader on \"https://rr1---sn-f5ouxacg-2o1e.googlevideo.com/videoplayback?expire=1734139680&ei=wIpcZ6DXKMmy4dUP3arRmQQ&ip=168.205.39.1&id=o-ANySHFBtB5nxnkm6VvMa9aCPM83Mf3Tnl3Orxv7YRgIQ&itag=251&source=youtube&requiressl=yes&xpc=EgVo2aDSNQ%3D%3D&met=1734118080%2C&mh=zw&mm=31%2C29&mn=sn-f5ouxacg-2o1e%2Csn-bg0s7n7s&ms=au%2Crdu&mv=m&mvi=1&pl=25&rms=au%2Cau&initcwndbps=1436250&bui=AfMhrI_I0FRRbsSzLiib81xAR52Z89-qNgYboEZQ5mQucqYxSyWMkPLhqvM6lPWPjOWczpyXgtvvGjGs&spc=x-caUGXQTpVxlVkJU9ZC4LkDyZ9apDFuHXDv3bGH7JByuk8ibQ&vprv=1&svpuc=1&mime=audio%2Fwebm&rqh=1&gir=yes&clen=10932652&dur=752.701&lmt=1654008313150389&mt=1734117683&fvip=1&keepalive=yes&fexp=51326932%2C51335594%2C51347747&c=IOS&txp=5318224&sparams=expire%2Cei%2Cip%2Cid%2Citag%2Csource%2Crequiressl%2Cxpc%2Cbui%2Cspc%2Cvprv%2Csvpuc%2Cmime%2Crqh%2Cgir%2Cclen%2Cdur%2Clmt&sig=AJfQdSswRQIhAMAwSQw9pgDD7tFkiGfVsQck0IJgtK84tk-G7nXKICIHAiACgEocN0Rfsbb_bRL5AgcBCcHq6WUwlYDhTYc0GpvZ5w%3D%3D&lsparams=met%2Cmh%2Cmm%2Cmn%2Cms%2Cmv%2Cmvi%2Cpl%2Crms%2Cinitcwndbps&lsig=AGluJ3MwRgIhAMCSxv54aUkXvXGVJ9G4Q-mg6ewvfhdtP3x6pKdhbsgFAiEAqdkoj6i9V5F_Qn0yuBT62n9p48Q3z2xDZDqAr7Ayeq0%3D\"\n"
     ]
    },
    {
     "name": "stdout",
     "output_type": "stream",
     "text": [
      "[download] files/audio/Python Machine Learning Tutorial ｜ Splitting Your Data ｜ Databytes.webm has already been downloaded\n",
      "[download] 100% of   10.43MiB\n"
     ]
    },
    {
     "name": "stderr",
     "output_type": "stream",
     "text": [
      "[debug] ffmpeg command line: ffprobe -show_streams 'file:files/audio/Python Machine Learning Tutorial ｜ Splitting Your Data ｜ Databytes.webm'\n"
     ]
    },
    {
     "name": "stdout",
     "output_type": "stream",
     "text": [
      "[ExtractAudio] Destination: files/audio/Python Machine Learning Tutorial ｜ Splitting Your Data ｜ Databytes.mp3\n"
     ]
    },
    {
     "name": "stderr",
     "output_type": "stream",
     "text": [
      "[debug] ffmpeg command line: ffmpeg -y -loglevel repeat+info -i 'file:files/audio/Python Machine Learning Tutorial ｜ Splitting Your Data ｜ Databytes.webm' -vn -acodec libmp3lame -b:a 192.0k -movflags +faststart 'file:files/audio/Python Machine Learning Tutorial ｜ Splitting Your Data ｜ Databytes.mp3'\n"
     ]
    },
    {
     "name": "stdout",
     "output_type": "stream",
     "text": [
      "Deleting original file files/audio/Python Machine Learning Tutorial ｜ Splitting Your Data ｜ Databytes.webm (pass -k to keep)\n"
     ]
    }
   ],
   "source": [
    "print(f\"downloading from youtube the following video url: \" + youtube_url)\n",
    "\n",
    "try:\n",
    "    with youtube_dl.YoutubeDL(ydl_config) as ydl:\n",
    "        ydl.download([youtube_url])\n",
    "except DownloadError:\n",
    "    with youtube_dl.YoutubeDL(ydl_config) as ydl:\n",
    "        ydl.download([youtube_url])"
   ]
  },
  {
   "cell_type": "code",
   "execution_count": 9,
   "id": "9393553e-9279-4769-95bd-dca1a44964e7",
   "metadata": {},
   "outputs": [],
   "source": [
    "audio_filename = glob.glob(os.path.join(output_dir, \"*.mp3\"))"
   ]
  },
  {
   "cell_type": "code",
   "execution_count": null,
   "id": "f140112f-5e48-4d92-92a9-af5c0713b44b",
   "metadata": {},
   "outputs": [],
   "source": []
  }
 ],
 "metadata": {
  "kernelspec": {
   "display_name": "Python 3 (ipykernel)",
   "language": "python",
   "name": "python3"
  },
  "language_info": {
   "codemirror_mode": {
    "name": "ipython",
    "version": 3
   },
   "file_extension": ".py",
   "mimetype": "text/x-python",
   "name": "python",
   "nbconvert_exporter": "python",
   "pygments_lexer": "ipython3",
   "version": "3.9.6"
  }
 },
 "nbformat": 4,
 "nbformat_minor": 5
}
